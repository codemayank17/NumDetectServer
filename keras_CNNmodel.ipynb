{
  "nbformat": 4,
  "nbformat_minor": 0,
  "metadata": {
    "colab": {
      "name": "keras_CNNmodel.ipynb",
      "provenance": [],
      "authorship_tag": "ABX9TyMBzU9l+4I6KbyujQlusaIA",
      "include_colab_link": true
    },
    "kernelspec": {
      "name": "python3",
      "display_name": "Python 3"
    }
  },
  "cells": [
    {
      "cell_type": "markdown",
      "metadata": {
        "id": "view-in-github",
        "colab_type": "text"
      },
      "source": [
        "<a href=\"https://colab.research.google.com/github/VatsalBabel/NumDetectServer/blob/master/keras_CNNmodel.ipynb\" target=\"_parent\"><img src=\"https://colab.research.google.com/assets/colab-badge.svg\" alt=\"Open In Colab\"/></a>"
      ]
    },
    {
      "cell_type": "markdown",
      "metadata": {
        "id": "bSHEZxKQYwH_",
        "colab_type": "text"
      },
      "source": [
        "# **Importing**"
      ]
    },
    {
      "cell_type": "code",
      "metadata": {
        "id": "5Pdh50irY3fp",
        "colab_type": "code",
        "colab": {}
      },
      "source": [
        "import numpy as np\n",
        "import tensorflow as tf\n",
        "from tensorflow.keras.datasets import mnist\n",
        "from tensorflow.keras.models import Sequential\n",
        "from sklearn.preprocessing import OneHotEncoder\n",
        "from tensorflow.keras.layers import Dense, Dropout, Activation, Flatten, Conv2D, MaxPooling2D"
      ],
      "execution_count": 0,
      "outputs": []
    },
    {
      "cell_type": "code",
      "metadata": {
        "id": "Ke1hKN-MZCk5",
        "colab_type": "code",
        "colab": {}
      },
      "source": [
        "import matplotlib.pyplot as plt\n",
        "%matplotlib inline"
      ],
      "execution_count": 0,
      "outputs": []
    },
    {
      "cell_type": "markdown",
      "metadata": {
        "id": "tUpQ7UO-ZKHc",
        "colab_type": "text"
      },
      "source": [
        "# **Data loading and processing**"
      ]
    },
    {
      "cell_type": "code",
      "metadata": {
        "id": "S4sgoTiZZP1o",
        "colab_type": "code",
        "colab": {}
      },
      "source": [
        "(x_train, y_train), (x_test, y_test) = mnist.load_data()"
      ],
      "execution_count": 0,
      "outputs": []
    },
    {
      "cell_type": "code",
      "metadata": {
        "id": "_Lldc-dhZZfq",
        "colab_type": "code",
        "outputId": "ea4f58f7-64e5-467a-a786-856a2d187f0d",
        "colab": {
          "base_uri": "https://localhost:8080/",
          "height": 34
        }
      },
      "source": [
        "x_train.shape, y_train.shape"
      ],
      "execution_count": 0,
      "outputs": [
        {
          "output_type": "execute_result",
          "data": {
            "text/plain": [
              "((60000, 28, 28), (60000,))"
            ]
          },
          "metadata": {
            "tags": []
          },
          "execution_count": 4
        }
      ]
    },
    {
      "cell_type": "code",
      "metadata": {
        "id": "OJoZgtn0ZbeY",
        "colab_type": "code",
        "outputId": "3caaa7d3-952d-42fa-ad1b-ca2a461bcbe5",
        "colab": {
          "base_uri": "https://localhost:8080/",
          "height": 34
        }
      },
      "source": [
        "x_test.shape, y_test.shape"
      ],
      "execution_count": 0,
      "outputs": [
        {
          "output_type": "execute_result",
          "data": {
            "text/plain": [
              "((10000, 28, 28), (10000,))"
            ]
          },
          "metadata": {
            "tags": []
          },
          "execution_count": 5
        }
      ]
    },
    {
      "cell_type": "code",
      "metadata": {
        "id": "E8iD7hd6Zes3",
        "colab_type": "code",
        "outputId": "d1c17732-0c09-4044-c752-708be80cb507",
        "colab": {
          "base_uri": "https://localhost:8080/",
          "height": 282
        }
      },
      "source": [
        "plt.imshow(x_train[0])"
      ],
      "execution_count": 0,
      "outputs": [
        {
          "output_type": "execute_result",
          "data": {
            "text/plain": [
              "<matplotlib.image.AxesImage at 0x7ff9ee216240>"
            ]
          },
          "metadata": {
            "tags": []
          },
          "execution_count": 6
        },
        {
          "output_type": "display_data",
          "data": {
            "image/png": "[encoded data removed]",
            "text/plain": [
              "<Figure size 432x288 with 1 Axes>"
            ]
          },
          "metadata": {
            "tags": [],
            "needs_background": "light"
          }
        }
      ]
    },
    {
      "cell_type": "code",
      "metadata": {
        "id": "nOoKKndiZmXQ",
        "colab_type": "code",
        "outputId": "92ba52bc-b140-4cd4-d32e-c95c5dad5a1a",
        "colab": {
          "base_uri": "https://localhost:8080/",
          "height": 34
        }
      },
      "source": [
        "y_train[0]"
      ],
      "execution_count": 0,
      "outputs": [
        {
          "output_type": "execute_result",
          "data": {
            "text/plain": [
              "5"
            ]
          },
          "metadata": {
            "tags": []
          },
          "execution_count": 7
        }
      ]
    },
    {
      "cell_type": "code",
      "metadata": {
        "id": "0CDC6BxDZsfV",
        "colab_type": "code",
        "outputId": "1c60ea3f-6462-401e-e485-99a17064c74d",
        "colab": {
          "base_uri": "https://localhost:8080/",
          "height": 34
        }
      },
      "source": [
        "#We will use OneHotEncoding on the target and then use a softmax layer to \n",
        "#check the probability of every label predicted by the NN.\n",
        "\n",
        "ohe = OneHotEncoder()\n",
        "y_train = y_train.reshape(-1,1)\n",
        "y_test = y_test.reshape(-1,1)\n",
        "y_train = ohe.fit_transform(y_train).toarray()\n",
        "y_test = ohe.fit_transform(y_test).toarray()\n",
        "\n",
        "print(y_train[0])"
      ],
      "execution_count": 0,
      "outputs": [
        {
          "output_type": "stream",
          "text": [
            "[0. 0. 0. 0. 0. 1. 0. 0. 0. 0.]\n"
          ],
          "name": "stdout"
        }
      ]
    },
    {
      "cell_type": "code",
      "metadata": {
        "id": "iX-stf7fiw2n",
        "colab_type": "code",
        "outputId": "51ab4405-0796-43d1-8430-6a3a23646845",
        "colab": {
          "base_uri": "https://localhost:8080/",
          "height": 34
        }
      },
      "source": [
        "print(y_test[200])"
      ],
      "execution_count": 0,
      "outputs": [
        {
          "output_type": "stream",
          "text": [
            "[0. 0. 0. 1. 0. 0. 0. 0. 0. 0.]\n"
          ],
          "name": "stdout"
        }
      ]
    },
    {
      "cell_type": "code",
      "metadata": {
        "id": "H7Q_VN7yamMy",
        "colab_type": "code",
        "outputId": "07eb3c00-e8d1-454f-9f2b-2d497590dd9f",
        "colab": {
          "base_uri": "https://localhost:8080/",
          "height": 34
        }
      },
      "source": [
        "x_train.min(), x_train.max()"
      ],
      "execution_count": 0,
      "outputs": [
        {
          "output_type": "execute_result",
          "data": {
            "text/plain": [
              "(0, 255)"
            ]
          },
          "metadata": {
            "tags": []
          },
          "execution_count": 10
        }
      ]
    },
    {
      "cell_type": "code",
      "metadata": {
        "id": "0MgkM6x4c6kB",
        "colab_type": "code",
        "outputId": "3373b060-d9ed-4caf-b24b-a9cb41defb0b",
        "colab": {
          "base_uri": "https://localhost:8080/",
          "height": 34
        }
      },
      "source": [
        "#We will normalize the values in the train and test set by dividing with \n",
        "#max value from input set\n",
        "\n",
        "x_train, x_test = x_train/255, x_test/255\n",
        "\n",
        "print(x_train.min(), x_train.max())"
      ],
      "execution_count": 0,
      "outputs": [
        {
          "output_type": "stream",
          "text": [
            "0.0 1.0\n"
          ],
          "name": "stdout"
        }
      ]
    },
    {
      "cell_type": "code",
      "metadata": {
        "id": "dAwGgCzYdFge",
        "colab_type": "code",
        "colab": {}
      },
      "source": [
        "#Since we have to provide the information about the color channel used to \n",
        "#the NN, we need to reshape the data\n",
        "\n",
        "x_train, x_test = x_train.reshape(-1, 28, 28, 1), x_test.reshape(-1, 28, 28, 1)"
      ],
      "execution_count": 0,
      "outputs": []
    },
    {
      "cell_type": "markdown",
      "metadata": {
        "id": "c4wV1v2Dd8VB",
        "colab_type": "text"
      },
      "source": [
        "# **Creating the CNN model using Keras**"
      ]
    },
    {
      "cell_type": "markdown",
      "metadata": {
        "id": "M2dWPp1TexpT",
        "colab_type": "text"
      },
      "source": [
        "![alt text](https://miro.medium.com/max/1400/1*uAeANQIOQPqWZnnuH-VEyw.jpeg)"
      ]
    },
    {
      "cell_type": "code",
      "metadata": {
        "id": "xbkLLgLjeASB",
        "colab_type": "code",
        "colab": {}
      },
      "source": [
        "model = Sequential()\n",
        "\n",
        "#Layer 1\n",
        "model.add(Conv2D(32, (5,5), strides=(1,1), padding='valid', input_shape=(28,28,1), activation='relu'))\n",
        "#shape --> (24,24,32)\n",
        "model.add(MaxPooling2D(pool_size=(2,2)))\n",
        "#shape --> (12,12,32)\n",
        "\n",
        "#Layer 2\n",
        "model.add(Conv2D(64, (5,5), strides=(1,1), padding='valid', activation='relu'))\n",
        "#shape --> (8,8,64)\n",
        "model.add(MaxPooling2D(pool_size=(2,2)))\n",
        "#shape --> (4,4,64)\n",
        "\n",
        "#Flatten layer\n",
        "model.add(Flatten())\n",
        "#shape --> (1, 4*4*64) --> (1,1024)\n",
        "\n",
        "#Fully connected layer 1\n",
        "model.add(Dense(64, activation='relu'))\n",
        "\n",
        "#Adding dropout to prevent overfitting\n",
        "model.add(Dropout(0.2))\n",
        "\n",
        "#Output layer\n",
        "model.add(Dense(10, activation='softmax'))\n"
      ],
      "execution_count": 0,
      "outputs": []
    },
    {
      "cell_type": "code",
      "metadata": {
        "id": "vH8UTjeAeOUq",
        "colab_type": "code",
        "outputId": "748404fa-b24a-46ad-dbbb-80aad0b99639",
        "colab": {
          "base_uri": "https://localhost:8080/",
          "height": 425
        }
      },
      "source": [
        "model.summary()"
      ],
      "execution_count": 0,
      "outputs": [
        {
          "output_type": "stream",
          "text": [
            "Model: \"sequential\"\n",
            "_________________________________________________________________\n",
            "Layer (type)                 Output Shape              Param #   \n",
            "=================================================================\n",
            "conv2d (Conv2D)              (None, 24, 24, 32)        832       \n",
            "_________________________________________________________________\n",
            "max_pooling2d (MaxPooling2D) (None, 12, 12, 32)        0         \n",
            "_________________________________________________________________\n",
            "conv2d_1 (Conv2D)            (None, 8, 8, 64)          51264     \n",
            "_________________________________________________________________\n",
            "max_pooling2d_1 (MaxPooling2 (None, 4, 4, 64)          0         \n",
            "_________________________________________________________________\n",
            "flatten (Flatten)            (None, 1024)              0         \n",
            "_________________________________________________________________\n",
            "dense (Dense)                (None, 64)                65600     \n",
            "_________________________________________________________________\n",
            "dropout (Dropout)            (None, 64)                0         \n",
            "_________________________________________________________________\n",
            "dense_1 (Dense)              (None, 10)                650       \n",
            "=================================================================\n",
            "Total params: 118,346\n",
            "Trainable params: 118,346\n",
            "Non-trainable params: 0\n",
            "_________________________________________________________________\n"
          ],
          "name": "stdout"
        }
      ]
    },
    {
      "cell_type": "code",
      "metadata": {
        "id": "muTrkvl1g_R7",
        "colab_type": "code",
        "colab": {}
      },
      "source": [
        "model.compile(optimizer='adam', loss='categorical_crossentropy', metrics=['accuracy'])"
      ],
      "execution_count": 0,
      "outputs": []
    },
    {
      "cell_type": "markdown",
      "metadata": {
        "id": "KTzHDwkahPOd",
        "colab_type": "text"
      },
      "source": [
        "# **Training the model**"
      ]
    },
    {
      "cell_type": "code",
      "metadata": {
        "id": "dqTA0Ru9hUPk",
        "colab_type": "code",
        "outputId": "bda649db-c459-4163-e9c8-152f215e002f",
        "colab": {
          "base_uri": "https://localhost:8080/",
          "height": 374
        }
      },
      "source": [
        "model.fit(x_train, y_train, batch_size=100, epochs=10, shuffle=True)"
      ],
      "execution_count": 0,
      "outputs": [
        {
          "output_type": "stream",
          "text": [
            "Epoch 1/10\n",
            "600/600 [==============================] - 53s 88ms/step - loss: 0.2335 - accuracy: 0.9297\n",
            "Epoch 2/10\n",
            "600/600 [==============================] - 53s 89ms/step - loss: 0.0681 - accuracy: 0.9790\n",
            "Epoch 3/10\n",
            "600/600 [==============================] - 53s 88ms/step - loss: 0.0477 - accuracy: 0.9855\n",
            "Epoch 4/10\n",
            "600/600 [==============================] - 53s 88ms/step - loss: 0.0369 - accuracy: 0.9889\n",
            "Epoch 5/10\n",
            "600/600 [==============================] - 53s 88ms/step - loss: 0.0296 - accuracy: 0.9910\n",
            "Epoch 6/10\n",
            "600/600 [==============================] - 53s 88ms/step - loss: 0.0254 - accuracy: 0.9919\n",
            "Epoch 7/10\n",
            "600/600 [==============================] - 53s 88ms/step - loss: 0.0209 - accuracy: 0.9933\n",
            "Epoch 8/10\n",
            "600/600 [==============================] - 53s 88ms/step - loss: 0.0194 - accuracy: 0.9938\n",
            "Epoch 9/10\n",
            "600/600 [==============================] - 52s 87ms/step - loss: 0.0157 - accuracy: 0.9949\n",
            "Epoch 10/10\n",
            "600/600 [==============================] - 52s 87ms/step - loss: 0.0148 - accuracy: 0.9952\n"
          ],
          "name": "stdout"
        },
        {
          "output_type": "execute_result",
          "data": {
            "text/plain": [
              "<tensorflow.python.keras.callbacks.History at 0x7ff9e7a4b940>"
            ]
          },
          "metadata": {
            "tags": []
          },
          "execution_count": 16
        }
      ]
    },
    {
      "cell_type": "markdown",
      "metadata": {
        "id": "zarYGr3Ohjyl",
        "colab_type": "text"
      },
      "source": [
        "# **Evaluating the model on test set**"
      ]
    },
    {
      "cell_type": "code",
      "metadata": {
        "id": "5xHR3JmVhq7g",
        "colab_type": "code",
        "outputId": "a74a0882-f4de-4301-b33d-e8f61b36b0ef",
        "colab": {
          "base_uri": "https://localhost:8080/",
          "height": 51
        }
      },
      "source": [
        "model.evaluate(x_test, y_test)"
      ],
      "execution_count": 0,
      "outputs": [
        {
          "output_type": "stream",
          "text": [
            "313/313 [==============================] - 3s 9ms/step - loss: 0.0278 - accuracy: 0.9917\n"
          ],
          "name": "stdout"
        },
        {
          "output_type": "execute_result",
          "data": {
            "text/plain": [
              "[0.02784087508916855, 0.9916999936103821]"
            ]
          },
          "metadata": {
            "tags": []
          },
          "execution_count": 17
        }
      ]
    },
    {
      "cell_type": "markdown",
      "metadata": {
        "id": "NqU7L1-lhvdN",
        "colab_type": "text"
      },
      "source": [
        "# **Making predictions with the trained model**"
      ]
    },
    {
      "cell_type": "code",
      "metadata": {
        "id": "gNzY9okxh31v",
        "colab_type": "code",
        "outputId": "ea35a85b-ebb3-49c3-8e05-2645ce18ad9a",
        "colab": {
          "base_uri": "https://localhost:8080/",
          "height": 370
        }
      },
      "source": [
        "#Lets use our trained NN to make predictions on a random value from test set\n",
        "\n",
        "print('Predicted: ' + str(model.predict_classes(x_test)[200]))\n",
        "plt.imshow(x_test[200].reshape(28,28))"
      ],
      "execution_count": 0,
      "outputs": [
        {
          "output_type": "stream",
          "text": [
            "WARNING:tensorflow:From <ipython-input-18-76b52feefbd6>:3: Sequential.predict_classes (from tensorflow.python.keras.engine.sequential) is deprecated and will be removed after 2021-01-01.\n",
            "Instructions for updating:\n",
            "Please use instead:* `np.argmax(model.predict(x), axis=-1)`,   if your model does multi-class classification   (e.g. if it uses a `softmax` last-layer activation).* `(model.predict(x) > 0.5).astype(\"int32\")`,   if your model does binary classification   (e.g. if it uses a `sigmoid` last-layer activation).\n",
            "Predicted: 3\n"
          ],
          "name": "stdout"
        },
        {
          "output_type": "execute_result",
          "data": {
            "text/plain": [
              "<matplotlib.image.AxesImage at 0x7ff9e4b7a048>"
            ]
          },
          "metadata": {
            "tags": []
          },
          "execution_count": 18
        },
        {
          "output_type": "display_data",
          "data": {
            "image/png": "[encoded data removed]",
            "text/plain": [
              "<Figure size 432x288 with 1 Axes>"
            ]
          },
          "metadata": {
            "tags": [],
            "needs_background": "light"
          }
        }
      ]
    },
    {
      "cell_type": "markdown",
      "metadata": {
        "id": "CMJJU8WUkJr9",
        "colab_type": "text"
      },
      "source": [
        "# **Saving the trained model**"
      ]
    },
    {
      "cell_type": "code",
      "metadata": {
        "id": "kMT-RarykPe8",
        "colab_type": "code",
        "colab": {}
      },
      "source": [
        "model.save('/trained_model.h5')"
      ],
      "execution_count": 0,
      "outputs": []
    }
  ]
}